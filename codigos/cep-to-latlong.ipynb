{
 "cells": [
  {
   "cell_type": "code",
   "execution_count": null,
   "metadata": {},
   "outputs": [],
   "source": [
    "import pandas as pd\n",
    "import numpy as np\n",
    "import pgeocode\n",
    "import geopy\n",
    "import random"
   ]
  },
  {
   "cell_type": "code",
   "execution_count": null,
   "metadata": {},
   "outputs": [],
   "source": [
    "def gerar_lista_ajustada(n_escolas, n_candidatos):\n",
    "    \"\"\"Gerando uma lista aleatória para substituir a quantidade de vagas para cada escola, de acordo com o numero de candidatos.\"\"\"\n",
    "    # Cria uma lista inicial com valores aleatórios\n",
    "    lista = [random.randint((n_candidatos // n_escolas) - 10, (n_candidatos // n_escolas)+10) for _ in range(n_escolas)]\n",
    "    # Ajusta a soma da lista para que seja igual a n_candidatos\n",
    "    soma_atual = sum(lista)\n",
    "    diferenca = n_candidatos - soma_atual\n",
    "    # Ajuste da lista para balancear a diferença\n",
    "    while diferenca != 0:\n",
    "        for i in range(n_escolas):\n",
    "            # Ajuste gradual: adiciona ou subtrai 1 conforme a diferença restante\n",
    "            if diferenca > 0 and lista[i] < 200:\n",
    "                lista[i] += 1\n",
    "                diferenca -= 1\n",
    "            elif diferenca < 0 and lista[i] > 50:\n",
    "                lista[i] -= 1\n",
    "                diferenca += 1\n",
    "            # Sai do loop se a diferença já for ajustada\n",
    "            if diferenca == 0:\n",
    "                break\n",
    "    return lista"
   ]
  },
  {
   "cell_type": "markdown",
   "metadata": {},
   "source": [
    "## Notebook para gerar samples de `Candidatos` e `Escolas`"
   ]
  },
  {
   "cell_type": "markdown",
   "metadata": {},
   "source": [
    "### Abrindo os dados"
   ]
  },
  {
   "cell_type": "code",
   "execution_count": 2,
   "metadata": {},
   "outputs": [
    {
     "name": "stdout",
     "output_type": "stream",
     "text": [
      "(100000, 2)\n"
     ]
    },
    {
     "data": {
      "text/html": [
       "<div>\n",
       "<style scoped>\n",
       "    .dataframe tbody tr th:only-of-type {\n",
       "        vertical-align: middle;\n",
       "    }\n",
       "\n",
       "    .dataframe tbody tr th {\n",
       "        vertical-align: top;\n",
       "    }\n",
       "\n",
       "    .dataframe thead th {\n",
       "        text-align: right;\n",
       "    }\n",
       "</style>\n",
       "<table border=\"1\" class=\"dataframe\">\n",
       "  <thead>\n",
       "    <tr style=\"text-align: right;\">\n",
       "      <th></th>\n",
       "      <th>Nome</th>\n",
       "      <th>CEP</th>\n",
       "    </tr>\n",
       "  </thead>\n",
       "  <tbody>\n",
       "    <tr>\n",
       "      <th>0</th>\n",
       "      <td>Renan Cavalcante</td>\n",
       "      <td>26525030</td>\n",
       "    </tr>\n",
       "    <tr>\n",
       "      <th>1</th>\n",
       "      <td>Bruna Mendonça</td>\n",
       "      <td>21230700</td>\n",
       "    </tr>\n",
       "    <tr>\n",
       "      <th>2</th>\n",
       "      <td>Heloísa Ramos</td>\n",
       "      <td>28922165</td>\n",
       "    </tr>\n",
       "    <tr>\n",
       "      <th>3</th>\n",
       "      <td>Lara Fogaça</td>\n",
       "      <td>27123290</td>\n",
       "    </tr>\n",
       "    <tr>\n",
       "      <th>4</th>\n",
       "      <td>Luara Aragão</td>\n",
       "      <td>27949380</td>\n",
       "    </tr>\n",
       "  </tbody>\n",
       "</table>\n",
       "</div>"
      ],
      "text/plain": [
       "               Nome       CEP\n",
       "0  Renan Cavalcante  26525030\n",
       "1    Bruna Mendonça  21230700\n",
       "2     Heloísa Ramos  28922165\n",
       "3       Lara Fogaça  27123290\n",
       "4      Luara Aragão  27949380"
      ]
     },
     "execution_count": 2,
     "metadata": {},
     "output_type": "execute_result"
    }
   ],
   "source": [
    "# abrindo os dados dos candidatos em csv\n",
    "df_candidatos = pd.read_csv('../dados/candidatos_concurso.csv', sep=',')\n",
    "print(df_candidatos.shape)\n",
    "df_candidatos.head()"
   ]
  },
  {
   "cell_type": "code",
   "execution_count": 3,
   "metadata": {},
   "outputs": [
    {
     "name": "stdout",
     "output_type": "stream",
     "text": [
      "(358, 3)\n"
     ]
    },
    {
     "data": {
      "text/html": [
       "<div>\n",
       "<style scoped>\n",
       "    .dataframe tbody tr th:only-of-type {\n",
       "        vertical-align: middle;\n",
       "    }\n",
       "\n",
       "    .dataframe tbody tr th {\n",
       "        vertical-align: top;\n",
       "    }\n",
       "\n",
       "    .dataframe thead th {\n",
       "        text-align: right;\n",
       "    }\n",
       "</style>\n",
       "<table border=\"1\" class=\"dataframe\">\n",
       "  <thead>\n",
       "    <tr style=\"text-align: right;\">\n",
       "      <th></th>\n",
       "      <th>Nome_Escola</th>\n",
       "      <th>CEP</th>\n",
       "      <th>Vagas</th>\n",
       "    </tr>\n",
       "  </thead>\n",
       "  <tbody>\n",
       "    <tr>\n",
       "      <th>0</th>\n",
       "      <td>COLÉGIO IMACULADA CONCEIÇÃO</td>\n",
       "      <td>22250040</td>\n",
       "      <td>380</td>\n",
       "    </tr>\n",
       "    <tr>\n",
       "      <th>1</th>\n",
       "      <td>COLEGIO LOGOSÓFICO GONZÁLEZ PECOTCHE</td>\n",
       "      <td>22290020</td>\n",
       "      <td>276</td>\n",
       "    </tr>\n",
       "    <tr>\n",
       "      <th>2</th>\n",
       "      <td>COLÉGIO SANTO INÁCIO</td>\n",
       "      <td>22260000</td>\n",
       "      <td>289</td>\n",
       "    </tr>\n",
       "    <tr>\n",
       "      <th>3</th>\n",
       "      <td>ESCOLA ADVENTISTA BOTAFOGO</td>\n",
       "      <td>22260100</td>\n",
       "      <td>278</td>\n",
       "    </tr>\n",
       "    <tr>\n",
       "      <th>4</th>\n",
       "      <td>ESCOLA DINAMIS</td>\n",
       "      <td>22251050</td>\n",
       "      <td>288</td>\n",
       "    </tr>\n",
       "  </tbody>\n",
       "</table>\n",
       "</div>"
      ],
      "text/plain": [
       "                            Nome_Escola       CEP  Vagas\n",
       "0           COLÉGIO IMACULADA CONCEIÇÃO  22250040    380\n",
       "1  COLEGIO LOGOSÓFICO GONZÁLEZ PECOTCHE  22290020    276\n",
       "2                  COLÉGIO SANTO INÁCIO  22260000    289\n",
       "3            ESCOLA ADVENTISTA BOTAFOGO  22260100    278\n",
       "4                        ESCOLA DINAMIS  22251050    288"
      ]
     },
     "execution_count": 3,
     "metadata": {},
     "output_type": "execute_result"
    }
   ],
   "source": [
    "# abrindo os dados dos locais de prova em csv\n",
    "df_escolas = pd.read_csv('../dados/Escolas_Finais_1000_Unicas_CEPs_Com_Vagas.csv', sep=',')\n",
    "print(df_escolas.shape)\n",
    "df_escolas.head()"
   ]
  },
  {
   "cell_type": "code",
   "execution_count": 5,
   "metadata": {},
   "outputs": [
    {
     "data": {
      "text/html": [
       "<div>\n",
       "<style scoped>\n",
       "    .dataframe tbody tr th:only-of-type {\n",
       "        vertical-align: middle;\n",
       "    }\n",
       "\n",
       "    .dataframe tbody tr th {\n",
       "        vertical-align: top;\n",
       "    }\n",
       "\n",
       "    .dataframe thead th {\n",
       "        text-align: right;\n",
       "    }\n",
       "</style>\n",
       "<table border=\"1\" class=\"dataframe\">\n",
       "  <thead>\n",
       "    <tr style=\"text-align: right;\">\n",
       "      <th></th>\n",
       "      <th>CEP</th>\n",
       "      <th>latitude</th>\n",
       "      <th>longitude</th>\n",
       "    </tr>\n",
       "  </thead>\n",
       "  <tbody>\n",
       "    <tr>\n",
       "      <th>0</th>\n",
       "      <td>27525120</td>\n",
       "      <td>-22.4810134</td>\n",
       "      <td>-44.4948395</td>\n",
       "    </tr>\n",
       "    <tr>\n",
       "      <th>1</th>\n",
       "      <td>24903680</td>\n",
       "      <td>-22.9339527</td>\n",
       "      <td>-42.8245961</td>\n",
       "    </tr>\n",
       "    <tr>\n",
       "      <th>2</th>\n",
       "      <td>27525122</td>\n",
       "      <td>-22.4810134</td>\n",
       "      <td>-44.4948395</td>\n",
       "    </tr>\n",
       "    <tr>\n",
       "      <th>3</th>\n",
       "      <td>24903685</td>\n",
       "      <td>-22.9339527</td>\n",
       "      <td>-42.8245961</td>\n",
       "    </tr>\n",
       "    <tr>\n",
       "      <th>4</th>\n",
       "      <td>26083335</td>\n",
       "      <td>-22.7400001</td>\n",
       "      <td>-43.5143571</td>\n",
       "    </tr>\n",
       "  </tbody>\n",
       "</table>\n",
       "</div>"
      ],
      "text/plain": [
       "        CEP     latitude    longitude\n",
       "0  27525120  -22.4810134  -44.4948395\n",
       "1  24903680  -22.9339527  -42.8245961\n",
       "2  27525122  -22.4810134  -44.4948395\n",
       "3  24903685  -22.9339527  -42.8245961\n",
       "4  26083335  -22.7400001  -43.5143571"
      ]
     },
     "execution_count": 5,
     "metadata": {},
     "output_type": "execute_result"
    }
   ],
   "source": [
    "ceps_latlong = pd.read_csv(\"../dados/dataset_ceps_latlong.csv\")\n",
    "ceps_latlong.head()"
   ]
  },
  {
   "cell_type": "markdown",
   "metadata": {},
   "source": [
    "### Merge Candidatos"
   ]
  },
  {
   "cell_type": "code",
   "execution_count": null,
   "metadata": {},
   "outputs": [],
   "source": [
    "candidatos = df_candidatos.merge(ceps_latlong, on='CEP')\n",
    "\n",
    "# rename para Latitude e Londitude\n",
    "candidatos = candidatos.rename(columns={'latitude': 'Latitude', 'longitude': 'Longitude'})\n",
    "\n",
    "# removendo os ERROs\n",
    "candidatos = candidatos[candidatos['Latitude'] != 'ERRO']\n",
    "candidatos = candidatos.dropna()\n",
    "# convertendo para float\n",
    "candidatos['Latitude'] = candidatos['Latitude'].astype(float)\n",
    "candidatos['Longitude'] = candidatos['Longitude'].astype(float)\n",
    "candidatos = candidatos.groupby('CEP').first().reset_index()\n",
    "\n",
    "# Fazendo um sample nos candidatos\n",
    "n = 10000\n",
    "candidatos = candidatos.sample(n).reset_index(drop=True)\n",
    "\n",
    "# Salvando os dados\n",
    "candidatos.to_csv(f\"../dados/candidatos_{n}.csv\", index=False)"
   ]
  },
  {
   "cell_type": "markdown",
   "metadata": {},
   "source": [
    "### Merge Escolas"
   ]
  },
  {
   "cell_type": "code",
   "execution_count": null,
   "metadata": {},
   "outputs": [
    {
     "name": "stdout",
     "output_type": "stream",
     "text": [
      "10000\n",
      "180\n"
     ]
    }
   ],
   "source": [
    "escolas = df_escolas.merge(ceps_latlong, on='CEP')\n",
    "escolas = escolas.drop_duplicates(subset='Nome_Escola')\n",
    "escolas = escolas.dropna()\n",
    "\n",
    "# filtrar todos os com nome \"ERRO\" na coluande latitude\n",
    "escolas = escolas[escolas['latitude'] != \"ERRO\"]\n",
    "\n",
    "# passando apra float\n",
    "escolas['latitude'] = escolas['latitude'].astype(float)\n",
    "escolas['longitude'] = escolas['longitude'].astype(float)\n",
    "\n",
    "# sample das escolas\n",
    "n = 180\n",
    "escolas = escolas.sample(n).reset_index(drop=True)\n",
    "\n",
    "n_candidatos = candidatos.shape[0]\n",
    "print(\"Candidatos:\", n_candidatos)\n",
    "\n",
    "n_escolas = escolas.shape[0]\n",
    "print(\"Escolas:\", n_escolas)"
   ]
  },
  {
   "cell_type": "markdown",
   "metadata": {},
   "source": [
    "#### Ajustando a quantidade de vagas"
   ]
  },
  {
   "cell_type": "code",
   "execution_count": null,
   "metadata": {},
   "outputs": [
    {
     "name": "stdout",
     "output_type": "stream",
     "text": [
      "Lista ajustada: [67, 77, 72, 57, 61, 60, 72, 59, 63, 77, 58, 57, 58, 59, 63, 76, 64, 64, 66, 72, 67, 77, 58, 68, 62, 68, 59, 64, 73, 75, 63, 77, 74, 62, 57, 77, 74, 77, 76, 62, 77, 76, 62, 71, 56, 60, 64, 73, 76, 69, 71, 62, 76, 75, 75, 57, 57, 75, 73, 57, 76, 70, 64, 74, 59, 72, 59, 73, 66, 64, 73, 59, 73, 68, 62, 75, 76, 64, 60, 62, 57, 56, 63, 61, 66, 65, 72, 64, 58, 73, 65, 73, 75, 76, 76, 62, 62, 60, 63, 60, 65, 64, 65, 64, 69, 70, 63, 69, 57, 62, 73, 75, 69, 68, 76, 71, 64, 74, 61, 62, 69, 56, 70, 67, 65, 62, 74, 63, 64, 62, 74, 65, 71, 69, 75, 59, 63, 59, 61, 64, 71, 74, 69, 58, 68, 64, 57, 72, 64, 60]\n",
      "Soma da lista: 10000\n"
     ]
    }
   ],
   "source": [
    "lista_ajustada = gerar_lista_ajustada(n_escolas, n_candidatos)\n",
    "print(\"Lista ajustada:\", lista_ajustada)\n",
    "print(\"Soma da lista:\", sum(lista_ajustada))\n"
   ]
  },
  {
   "cell_type": "code",
   "execution_count": null,
   "metadata": {},
   "outputs": [
    {
     "data": {
      "text/plain": [
       "True"
      ]
     },
     "execution_count": 63,
     "metadata": {},
     "output_type": "execute_result"
    }
   ],
   "source": [
    "# Inserindo a quantidaed de vagas nas escolas\n",
    "escolas['Vagas'] = lista_ajustada\n",
    "# validação\n",
    "escolas['Vagas'].sum() == n_candidatos"
   ]
  },
  {
   "cell_type": "code",
   "execution_count": null,
   "metadata": {},
   "outputs": [],
   "source": [
    "# rename daslatitude e longitude\n",
    "escolas = escolas.rename(columns={'latitude': 'Latitude', 'longitude': 'Longitude'}) \n",
    "# salvando as escolas em csv\n",
    "escolas.to_csv(f\"../dados/escolas_{n}.csv\", index=False)"
   ]
  },
  {
   "cell_type": "code",
   "execution_count": null,
   "metadata": {},
   "outputs": [
    {
     "data": {
      "text/html": [
       "<div>\n",
       "<style scoped>\n",
       "    .dataframe tbody tr th:only-of-type {\n",
       "        vertical-align: middle;\n",
       "    }\n",
       "\n",
       "    .dataframe tbody tr th {\n",
       "        vertical-align: top;\n",
       "    }\n",
       "\n",
       "    .dataframe thead th {\n",
       "        text-align: right;\n",
       "    }\n",
       "</style>\n",
       "<table border=\"1\" class=\"dataframe\">\n",
       "  <thead>\n",
       "    <tr style=\"text-align: right;\">\n",
       "      <th></th>\n",
       "      <th>CEP</th>\n",
       "    </tr>\n",
       "    <tr>\n",
       "      <th>Nome_Escola</th>\n",
       "      <th></th>\n",
       "    </tr>\n",
       "  </thead>\n",
       "  <tbody>\n",
       "    <tr>\n",
       "      <th>1/2 - COLÉGIO SAGRADO CORAÇÃO DE MARIA - T 56</th>\n",
       "      <td>1</td>\n",
       "    </tr>\n",
       "    <tr>\n",
       "      <th>ESCOLA MUNICIPAL MANOEL BOMFIM</th>\n",
       "      <td>1</td>\n",
       "    </tr>\n",
       "    <tr>\n",
       "      <th>ESCOLA MUNICIPAL ISAIAS ALVES</th>\n",
       "      <td>1</td>\n",
       "    </tr>\n",
       "    <tr>\n",
       "      <th>ESCOLA MUNICIPAL JAIME COSTA</th>\n",
       "      <td>1</td>\n",
       "    </tr>\n",
       "    <tr>\n",
       "      <th>ESCOLA MUNICIPAL JOAO KOPKE</th>\n",
       "      <td>1</td>\n",
       "    </tr>\n",
       "    <tr>\n",
       "      <th>...</th>\n",
       "      <td>...</td>\n",
       "    </tr>\n",
       "    <tr>\n",
       "      <th>ESCOLA EDEM</th>\n",
       "      <td>1</td>\n",
       "    </tr>\n",
       "    <tr>\n",
       "      <th>ESCOLA ELEVA</th>\n",
       "      <td>1</td>\n",
       "    </tr>\n",
       "    <tr>\n",
       "      <th>ESCOLA ESTADUAL ALMIRANTE PROTOGENES</th>\n",
       "      <td>1</td>\n",
       "    </tr>\n",
       "    <tr>\n",
       "      <th>ESCOLA ESTADUAL CRUZEIRO DO SUL</th>\n",
       "      <td>1</td>\n",
       "    </tr>\n",
       "    <tr>\n",
       "      <th>REDE MV1 - COLÉGIO MV1 JÚNIOR</th>\n",
       "      <td>1</td>\n",
       "    </tr>\n",
       "  </tbody>\n",
       "</table>\n",
       "<p>204 rows × 1 columns</p>\n",
       "</div>"
      ],
      "text/plain": [
       "                                               CEP\n",
       "Nome_Escola                                       \n",
       "1/2 - COLÉGIO SAGRADO CORAÇÃO DE MARIA - T 56    1\n",
       "ESCOLA MUNICIPAL MANOEL BOMFIM                   1\n",
       "ESCOLA MUNICIPAL ISAIAS ALVES                    1\n",
       "ESCOLA MUNICIPAL JAIME COSTA                     1\n",
       "ESCOLA MUNICIPAL JOAO KOPKE                      1\n",
       "...                                            ...\n",
       "ESCOLA EDEM                                      1\n",
       "ESCOLA ELEVA                                     1\n",
       "ESCOLA ESTADUAL ALMIRANTE PROTOGENES             1\n",
       "ESCOLA ESTADUAL CRUZEIRO DO SUL                  1\n",
       "REDE MV1 - COLÉGIO MV1 JÚNIOR                    1\n",
       "\n",
       "[204 rows x 1 columns]"
      ]
     },
     "execution_count": 48,
     "metadata": {},
     "output_type": "execute_result"
    }
   ],
   "source": [
    "# Validando se temos escolas com o mesmo cep\n",
    "escolas.groupby(['Nome_Escola'])[['CEP']].count().sort_values(by='CEP', ascending=False)"
   ]
  },
  {
   "cell_type": "code",
   "execution_count": null,
   "metadata": {},
   "outputs": [],
   "source": [
    "escolas.groupby(['CEP'])[['Nome_Escola']].count().sort_values(by='Nome_Escola', ascending=False)"
   ]
  },
  {
   "cell_type": "markdown",
   "metadata": {},
   "source": [
    "***\n",
    "***"
   ]
  }
 ],
 "metadata": {
  "kernelspec": {
   "display_name": "openai",
   "language": "python",
   "name": "python3"
  },
  "language_info": {
   "codemirror_mode": {
    "name": "ipython",
    "version": 3
   },
   "file_extension": ".py",
   "mimetype": "text/x-python",
   "name": "python",
   "nbconvert_exporter": "python",
   "pygments_lexer": "ipython3",
   "version": "3.12.0"
  }
 },
 "nbformat": 4,
 "nbformat_minor": 2
}
