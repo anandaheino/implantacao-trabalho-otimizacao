{
 "cells": [
  {
   "cell_type": "code",
   "execution_count": 1,
   "metadata": {},
   "outputs": [],
   "source": [
    "import pandas as pd\n",
    "import numpy as np\n",
    "import pgeocode\n",
    "import geopy\n",
    "import random"
   ]
  },
  {
   "cell_type": "code",
   "execution_count": 2,
   "metadata": {},
   "outputs": [],
   "source": [
    "def gerar_lista_ajustada(n_escolas, n_candidatos):\n",
    "    \"\"\"Gerando uma lista aleatória para substituir a quantidade de vagas para cada escola, de acordo com o numero de candidatos.\"\"\"\n",
    "    # Cria uma lista inicial com valores aleatórios\n",
    "    lista = [(n_candidatos // n_escolas) for _ in range(n_escolas)]\n",
    "    # Ajusta a soma da lista para que seja igual a n_candidatos\n",
    "    soma_atual = sum(lista)\n",
    "    diferenca = n_candidatos - soma_atual\n",
    "    # Ajuste da lista para balancear a diferença\n",
    "    while diferenca != 0:\n",
    "        for i in range(n_escolas):\n",
    "            # Ajuste gradual: adiciona ou subtrai 1 conforme a diferença restante\n",
    "            if diferenca > 0 and lista[i] < 200:\n",
    "                lista[i] += 1\n",
    "                diferenca -= 1\n",
    "            elif diferenca < 0 and lista[i] > 50:\n",
    "                lista[i] -= 1\n",
    "                diferenca += 1\n",
    "            # Sai do loop se a diferença já for ajustada\n",
    "            if diferenca == 0:\n",
    "                break\n",
    "    return lista"
   ]
  },
  {
   "cell_type": "markdown",
   "metadata": {},
   "source": [
    "## Notebook para gerar samples de `Candidatos` e `Escolas`"
   ]
  },
  {
   "cell_type": "markdown",
   "metadata": {},
   "source": [
    "### Abrindo os dados"
   ]
  },
  {
   "cell_type": "code",
   "execution_count": 3,
   "metadata": {},
   "outputs": [
    {
     "name": "stdout",
     "output_type": "stream",
     "text": [
      "(100000, 2)\n",
      "(60302, 2)\n"
     ]
    },
    {
     "data": {
      "text/html": [
       "<div>\n",
       "<style scoped>\n",
       "    .dataframe tbody tr th:only-of-type {\n",
       "        vertical-align: middle;\n",
       "    }\n",
       "\n",
       "    .dataframe tbody tr th {\n",
       "        vertical-align: top;\n",
       "    }\n",
       "\n",
       "    .dataframe thead th {\n",
       "        text-align: right;\n",
       "    }\n",
       "</style>\n",
       "<table border=\"1\" class=\"dataframe\">\n",
       "  <thead>\n",
       "    <tr style=\"text-align: right;\">\n",
       "      <th></th>\n",
       "      <th>CEP</th>\n",
       "      <th>Nome</th>\n",
       "    </tr>\n",
       "  </thead>\n",
       "  <tbody>\n",
       "    <tr>\n",
       "      <th>0</th>\n",
       "      <td>20010000</td>\n",
       "      <td>Zoe Abreu</td>\n",
       "    </tr>\n",
       "    <tr>\n",
       "      <th>1</th>\n",
       "      <td>20010010</td>\n",
       "      <td>Mariane Marques</td>\n",
       "    </tr>\n",
       "    <tr>\n",
       "      <th>2</th>\n",
       "      <td>20010020</td>\n",
       "      <td>Maria Vitória Camargo</td>\n",
       "    </tr>\n",
       "    <tr>\n",
       "      <th>3</th>\n",
       "      <td>20010040</td>\n",
       "      <td>Nicolas Dias</td>\n",
       "    </tr>\n",
       "    <tr>\n",
       "      <th>4</th>\n",
       "      <td>20010050</td>\n",
       "      <td>Luan Guerra</td>\n",
       "    </tr>\n",
       "  </tbody>\n",
       "</table>\n",
       "</div>"
      ],
      "text/plain": [
       "        CEP                   Nome\n",
       "0  20010000              Zoe Abreu\n",
       "1  20010010        Mariane Marques\n",
       "2  20010020  Maria Vitória Camargo\n",
       "3  20010040           Nicolas Dias\n",
       "4  20010050            Luan Guerra"
      ]
     },
     "execution_count": 3,
     "metadata": {},
     "output_type": "execute_result"
    }
   ],
   "source": [
    "# abrindo os dados dos candidatos em csv\n",
    "df_candidatos = pd.read_csv('../dados/candidatos_concurso_raw.csv', sep=',')\n",
    "print(df_candidatos.shape)\n",
    "# agrupando caso tenha algum cep duplicado, pegando o primeiro nome\n",
    "df_candidatos = df_candidatos.groupby('CEP').first().reset_index()\n",
    "print(df_candidatos.shape)\n",
    "df_candidatos.head()"
   ]
  },
  {
   "cell_type": "code",
   "execution_count": 4,
   "metadata": {},
   "outputs": [
    {
     "name": "stdout",
     "output_type": "stream",
     "text": [
      "(358, 3)\n",
      "(358, 3)\n"
     ]
    },
    {
     "data": {
      "text/html": [
       "<div>\n",
       "<style scoped>\n",
       "    .dataframe tbody tr th:only-of-type {\n",
       "        vertical-align: middle;\n",
       "    }\n",
       "\n",
       "    .dataframe tbody tr th {\n",
       "        vertical-align: top;\n",
       "    }\n",
       "\n",
       "    .dataframe thead th {\n",
       "        text-align: right;\n",
       "    }\n",
       "</style>\n",
       "<table border=\"1\" class=\"dataframe\">\n",
       "  <thead>\n",
       "    <tr style=\"text-align: right;\">\n",
       "      <th></th>\n",
       "      <th>CEP</th>\n",
       "      <th>Nome_Escola</th>\n",
       "      <th>Vagas</th>\n",
       "    </tr>\n",
       "  </thead>\n",
       "  <tbody>\n",
       "    <tr>\n",
       "      <th>0</th>\n",
       "      <td>11111111</td>\n",
       "      <td>ESCOLA MUNICIPAL DR. KINGSTON GUIMARAES DE SOU...</td>\n",
       "      <td>277</td>\n",
       "    </tr>\n",
       "    <tr>\n",
       "      <th>1</th>\n",
       "      <td>20240200</td>\n",
       "      <td>ESCOLA MUNICIPAL GUATEMALA</td>\n",
       "      <td>274</td>\n",
       "    </tr>\n",
       "    <tr>\n",
       "      <th>2</th>\n",
       "      <td>20241220</td>\n",
       "      <td>COLÉGIO ANGELORUM</td>\n",
       "      <td>273</td>\n",
       "    </tr>\n",
       "    <tr>\n",
       "      <th>3</th>\n",
       "      <td>20241263</td>\n",
       "      <td>COLÉGIO ESTADUAL MONTEIRO DE CARVALHO</td>\n",
       "      <td>283</td>\n",
       "    </tr>\n",
       "    <tr>\n",
       "      <th>4</th>\n",
       "      <td>20251460</td>\n",
       "      <td>ESCOLA MUNICIPAL SANTA CATARINA</td>\n",
       "      <td>281</td>\n",
       "    </tr>\n",
       "  </tbody>\n",
       "</table>\n",
       "</div>"
      ],
      "text/plain": [
       "        CEP                                        Nome_Escola  Vagas\n",
       "0  11111111  ESCOLA MUNICIPAL DR. KINGSTON GUIMARAES DE SOU...    277\n",
       "1  20240200                         ESCOLA MUNICIPAL GUATEMALA    274\n",
       "2  20241220                                  COLÉGIO ANGELORUM    273\n",
       "3  20241263              COLÉGIO ESTADUAL MONTEIRO DE CARVALHO    283\n",
       "4  20251460                    ESCOLA MUNICIPAL SANTA CATARINA    281"
      ]
     },
     "execution_count": 4,
     "metadata": {},
     "output_type": "execute_result"
    }
   ],
   "source": [
    "# abrindo os dados dos locais de prova em csv\n",
    "df_escolas = pd.read_csv('../dados/escolas_finais_raw.csv', sep=',')\n",
    "print(df_escolas.shape)\n",
    "# agrupando caso tenha algum cep duplicado, pegando a primeira escola\n",
    "df_escolas = df_escolas.groupby('CEP').first().reset_index()\n",
    "print(df_escolas.shape)\n",
    "df_escolas.head()"
   ]
  },
  {
   "cell_type": "code",
   "execution_count": 5,
   "metadata": {},
   "outputs": [
    {
     "name": "stdout",
     "output_type": "stream",
     "text": [
      "(59939, 4)\n",
      "(59723, 3)\n"
     ]
    },
    {
     "data": {
      "text/html": [
       "<div>\n",
       "<style scoped>\n",
       "    .dataframe tbody tr th:only-of-type {\n",
       "        vertical-align: middle;\n",
       "    }\n",
       "\n",
       "    .dataframe tbody tr th {\n",
       "        vertical-align: top;\n",
       "    }\n",
       "\n",
       "    .dataframe thead th {\n",
       "        text-align: right;\n",
       "    }\n",
       "</style>\n",
       "<table border=\"1\" class=\"dataframe\">\n",
       "  <thead>\n",
       "    <tr style=\"text-align: right;\">\n",
       "      <th></th>\n",
       "      <th>CEP</th>\n",
       "      <th>latitude</th>\n",
       "      <th>longitude</th>\n",
       "    </tr>\n",
       "  </thead>\n",
       "  <tbody>\n",
       "    <tr>\n",
       "      <th>0</th>\n",
       "      <td>20010000</td>\n",
       "      <td>-22.901867</td>\n",
       "      <td>-43.176230</td>\n",
       "    </tr>\n",
       "    <tr>\n",
       "      <th>1</th>\n",
       "      <td>20010010</td>\n",
       "      <td>-22.902554</td>\n",
       "      <td>-43.174102</td>\n",
       "    </tr>\n",
       "    <tr>\n",
       "      <th>2</th>\n",
       "      <td>20010020</td>\n",
       "      <td>-22.904806</td>\n",
       "      <td>-43.174795</td>\n",
       "    </tr>\n",
       "    <tr>\n",
       "      <th>3</th>\n",
       "      <td>20010040</td>\n",
       "      <td>-22.820949</td>\n",
       "      <td>-43.376921</td>\n",
       "    </tr>\n",
       "    <tr>\n",
       "      <th>4</th>\n",
       "      <td>20010050</td>\n",
       "      <td>-22.904294</td>\n",
       "      <td>-43.173506</td>\n",
       "    </tr>\n",
       "  </tbody>\n",
       "</table>\n",
       "</div>"
      ],
      "text/plain": [
       "        CEP   latitude  longitude\n",
       "0  20010000 -22.901867 -43.176230\n",
       "1  20010010 -22.902554 -43.174102\n",
       "2  20010020 -22.904806 -43.174795\n",
       "3  20010040 -22.820949 -43.376921\n",
       "4  20010050 -22.904294 -43.173506"
      ]
     },
     "execution_count": 5,
     "metadata": {},
     "output_type": "execute_result"
    }
   ],
   "source": [
    "ceps_latlong = pd.read_csv(\"../dados/dataset_ceps_latlong_uf.csv\")\n",
    "print(ceps_latlong.shape)\n",
    "\n",
    "# filtrando o UF do rio de janeiro\n",
    "ceps_latlong = ceps_latlong[ceps_latlong['UF'] == 'RJ']\n",
    "# groupby para pegar a primeira lat e long caso tenha algum cep repetido\n",
    "ceps_latlong = ceps_latlong.groupby('CEP').first().reset_index().drop(columns=['UF'])\n",
    "print(ceps_latlong.shape)\n",
    "\n",
    "ceps_latlong.head()"
   ]
  },
  {
   "cell_type": "markdown",
   "metadata": {},
   "source": [
    "### Merge Candidatos e Escolas"
   ]
  },
  {
   "cell_type": "code",
   "execution_count": 7,
   "metadata": {},
   "outputs": [
    {
     "name": "stdout",
     "output_type": "stream",
     "text": [
      "Candidatos: 10\n",
      "Escolas: 5\n",
      "Lista ajustada: [2, 2, 2, 2, 2]\n",
      "Soma da lista: 10\n",
      "validação: True\n",
      "Datasets salvos com sucesso!\n",
      "-----------------------------------------------------\n",
      "Candidatos: 100\n",
      "Escolas: 25\n",
      "Lista ajustada: [4, 4, 4, 4, 4, 4, 4, 4, 4, 4, 4, 4, 4, 4, 4, 4, 4, 4, 4, 4, 4, 4, 4, 4, 4]\n",
      "Soma da lista: 100\n",
      "validação: True\n",
      "Datasets salvos com sucesso!\n",
      "-----------------------------------------------------\n",
      "Candidatos: 1000\n",
      "Escolas: 50\n",
      "Lista ajustada: [20, 20, 20, 20, 20, 20, 20, 20, 20, 20, 20, 20, 20, 20, 20, 20, 20, 20, 20, 20, 20, 20, 20, 20, 20, 20, 20, 20, 20, 20, 20, 20, 20, 20, 20, 20, 20, 20, 20, 20, 20, 20, 20, 20, 20, 20, 20, 20, 20, 20]\n",
      "Soma da lista: 1000\n",
      "validação: True\n",
      "Datasets salvos com sucesso!\n",
      "-----------------------------------------------------\n",
      "Candidatos: 10000\n",
      "Escolas: 100\n",
      "Lista ajustada: [100, 100, 100, 100, 100, 100, 100, 100, 100, 100, 100, 100, 100, 100, 100, 100, 100, 100, 100, 100, 100, 100, 100, 100, 100, 100, 100, 100, 100, 100, 100, 100, 100, 100, 100, 100, 100, 100, 100, 100, 100, 100, 100, 100, 100, 100, 100, 100, 100, 100, 100, 100, 100, 100, 100, 100, 100, 100, 100, 100, 100, 100, 100, 100, 100, 100, 100, 100, 100, 100, 100, 100, 100, 100, 100, 100, 100, 100, 100, 100, 100, 100, 100, 100, 100, 100, 100, 100, 100, 100, 100, 100, 100, 100, 100, 100, 100, 100, 100, 100]\n",
      "Soma da lista: 10000\n",
      "validação: True\n",
      "Datasets salvos com sucesso!\n",
      "-----------------------------------------------------\n"
     ]
    }
   ],
   "source": [
    "# numero de amostras de candidatos e de escolas por sample\n",
    "DATASET_SAMPLES = {\n",
    "    1: (10, 5),\n",
    "    2: (100, 25),\n",
    "    3: (1000, 50),\n",
    "    4: (10000, 100),\n",
    "}\n",
    "\n",
    "# iterando pelos datasets e numeros de escolas e candidatos\n",
    "for dataset in DATASET_SAMPLES.keys():\n",
    "\n",
    "    candidatos = df_candidatos.merge(ceps_latlong, on='CEP')\n",
    "\n",
    "    # rename para Latitude e Londitude\n",
    "    candidatos = candidatos.rename(columns={'latitude': 'Latitude', 'longitude': 'Longitude'})\n",
    "\n",
    "    # removendo os ERROs\n",
    "    candidatos = candidatos[candidatos['Latitude'] != 'ERRO']\n",
    "    candidatos = candidatos.dropna()\n",
    "    # convertendo para float\n",
    "    candidatos['Latitude'] = candidatos['Latitude'].astype(float)\n",
    "    candidatos['Longitude'] = candidatos['Longitude'].astype(float)\n",
    "    candidatos = candidatos.groupby('CEP').first().reset_index()\n",
    "\n",
    "    # Fazendo um sample nos candidatos\n",
    "    n = DATASET_SAMPLES[dataset][0]\n",
    "    candidatos = candidatos.sample(n).reset_index(drop=True)\n",
    "\n",
    "    # Salvando os dados\n",
    "    candidatos.to_csv(f\"../dados/{dataset}_candidatos_{n}.csv\", index=False)\n",
    "\n",
    "    #---------------------------------------------------------------------------\n",
    "    escolas = df_escolas.merge(ceps_latlong, on='CEP')\n",
    "    escolas = escolas.drop_duplicates(subset='Nome_Escola')\n",
    "    escolas = escolas.dropna()\n",
    "\n",
    "    # filtrar todos os com nome \"ERRO\" na coluande latitude\n",
    "    escolas = escolas[escolas['latitude'] != \"ERRO\"]\n",
    "\n",
    "    # passando apra float\n",
    "    escolas['latitude'] = escolas['latitude'].astype(float)\n",
    "    escolas['longitude'] = escolas['longitude'].astype(float)\n",
    "\n",
    "    # sample das escolas\n",
    "    n = DATASET_SAMPLES[dataset][1]\n",
    "    escolas = escolas.sample(n).reset_index(drop=True)\n",
    "    \n",
    "    n_candidatos = candidatos.shape[0]\n",
    "    print(\"Candidatos:\", n_candidatos)\n",
    "\n",
    "    n_escolas = escolas.shape[0]\n",
    "    print(\"Escolas:\", n_escolas)\n",
    "    \n",
    "    lista_ajustada = gerar_lista_ajustada(n_escolas, n_candidatos)\n",
    "    print(\"Lista ajustada:\", lista_ajustada)\n",
    "    print(\"Soma da lista:\", sum(lista_ajustada))\n",
    "\n",
    "    # Inserindo a quantidaed de vagas nas escolas\n",
    "    escolas['Vagas'] = lista_ajustada\n",
    "    # validação\n",
    "    print(\"validação:\", escolas['Vagas'].sum() == n_candidatos)\n",
    "    \n",
    "    # rename das latitudes e longitudes das escolas\n",
    "    escolas = escolas.rename(columns={'latitude': 'Latitude', 'longitude': 'Longitude'}) \n",
    "    # salvando as escolas em csv\n",
    "    escolas.to_csv(f\"../dados/{dataset}_escolas_{n}.csv\", index=False)\n",
    "\n",
    "    print(f\"Datasets salvos com sucesso!\")\n",
    "    print(\"-----------------------------------------------------\")\n"
   ]
  },
  {
   "cell_type": "markdown",
   "metadata": {},
   "source": [
    "***\n",
    "***"
   ]
  }
 ],
 "metadata": {
  "kernelspec": {
   "display_name": "openai",
   "language": "python",
   "name": "python3"
  },
  "language_info": {
   "codemirror_mode": {
    "name": "ipython",
    "version": 3
   },
   "file_extension": ".py",
   "mimetype": "text/x-python",
   "name": "python",
   "nbconvert_exporter": "python",
   "pygments_lexer": "ipython3",
   "version": "3.12.0"
  }
 },
 "nbformat": 4,
 "nbformat_minor": 2
}
